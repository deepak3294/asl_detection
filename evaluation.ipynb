{
 "cells": [
  {
   "cell_type": "code",
   "execution_count": 1,
   "id": "bfd26a3c",
   "metadata": {},
   "outputs": [],
   "source": [
    "import cv2\n",
    "import numpy as np\n",
    "import mediapipe as mp\n",
    "from keras.models import load_model\n",
    "from sklearn.metrics import accuracy_score, confusion_matrix\n",
    "from collections import Counter\n",
    "import time\n",
    "import sys\n",
    "import matplotlib.pyplot as plt # For plotting\n",
    "import seaborn as sns          # For heatmap visualization"
   ]
  },
  {
   "cell_type": "code",
   "execution_count": 2,
   "id": "01f910cd",
   "metadata": {},
   "outputs": [],
   "source": [
    "# --- A. CONFIGURATION ---\n",
    "MODEL_PATH = 'asl_cnn_model.h5' # Ensure this points to your trained model\n",
    "IMAGE_SIZE = 32 \n",
    "THRESHOLD_VALUE = 161 # OpenCV threshold (TUNE THIS for your specific lighting)\n",
    "ASL_LETTERS = 'ABCDEFGHIKLMNOPQRSTUVWXY'\n",
    "SESSION_DURATION = 5.0 # Seconds to capture data for each sign"
   ]
  },
  {
   "cell_type": "code",
   "execution_count": 3,
   "id": "2d816d46",
   "metadata": {},
   "outputs": [
    {
     "name": "stderr",
     "output_type": "stream",
     "text": [
      "WARNING:absl:Compiled the loaded model, but the compiled metrics have yet to be built. `model.compile_metrics` will be empty until you train or evaluate the model.\n"
     ]
    }
   ],
   "source": [
    "# --- B. MODEL & MEDIAPIPE SETUP ---\n",
    "try:\n",
    "    model = load_model(MODEL_PATH)\n",
    "except Exception as e:\n",
    "    print(f\"❌ Error loading model '{MODEL_PATH}'. Ensure training was successful.\")\n",
    "    sys.exit()"
   ]
  },
  {
   "cell_type": "code",
   "execution_count": 4,
   "id": "c3819a4a",
   "metadata": {
    "lines_to_next_cell": 1
   },
   "outputs": [],
   "source": [
    "mp_hands = mp.solutions.hands\n",
    "hands = mp_hands.Hands(static_image_mode=False, max_num_hands=1, min_detection_confidence=0.7)"
   ]
  },
  {
   "cell_type": "markdown",
   "id": "0514d514",
   "metadata": {},
   "source": [
    "--- C. PREPROCESSING FUNCTIONS ---"
   ]
  },
  {
   "cell_type": "code",
   "execution_count": 5,
   "id": "c6b235e8",
   "metadata": {
    "lines_to_next_cell": 1
   },
   "outputs": [],
   "source": [
    "def preprocess_image(image):\n",
    "    \"\"\"Processes the cropped hand image to match the model's training input.\"\"\"\n",
    "    gray = cv2.cvtColor(image, cv2.COLOR_BGR2GRAY)\n",
    "    gray = cv2.flip(gray, 1)\n",
    "    gray = cv2.GaussianBlur(gray, (15, 15), 0)\n",
    "    \n",
    "    # Using THRESH_BINARY to get a white hand on a black background (if hand is brighter than BG)\n",
    "    # If the hand is darker than BG, change to cv2.THRESH_BINARY_INV\n",
    "    _, thresholded = cv2.threshold(gray, THRESHOLD_VALUE, 255, cv2.THRESH_BINARY) \n",
    "    \n",
    "    resized = cv2.resize(thresholded, (IMAGE_SIZE, IMAGE_SIZE))\n",
    "    normalized = resized / 255.0\n",
    "    reshaped = np.reshape(normalized, (1, IMAGE_SIZE, IMAGE_SIZE, 1))\n",
    "    \n",
    "    return reshaped, resized"
   ]
  },
  {
   "cell_type": "code",
   "execution_count": 6,
   "id": "a63d5e02",
   "metadata": {
    "lines_to_next_cell": 1
   },
   "outputs": [],
   "source": [
    "def predict_asl_letter(prediction):\n",
    "    \"\"\"Maps the model's prediction index to the ASL character.\"\"\"\n",
    "    return ASL_LETTERS[np.argmax(prediction)]"
   ]
  },
  {
   "cell_type": "code",
   "execution_count": 7,
   "id": "cde48e44",
   "metadata": {
    "lines_to_next_cell": 1
   },
   "outputs": [],
   "source": [
    "# --- D. PREDICTION AND EVALUATION LOOP ---\n",
    "def run_predictions(true_label):\n",
    "    \"\"\"Captures predictions for 5 seconds and calculates accuracy for the true_label.\"\"\"\n",
    "    start_time = time.time()\n",
    "    y_true = [] \n",
    "    y_pred = []\n",
    "    \n",
    "    while time.time() - start_time < SESSION_DURATION:\n",
    "        success, frame = cap.read()\n",
    "        if not success: break\n",
    "\n",
    "        frame = cv2.flip(frame, 1)\n",
    "        frame_rgb = cv2.cvtColor(frame, cv2.COLOR_BGR2RGB)\n",
    "        result = hands.process(frame_rgb)\n",
    "\n",
    "        if result.multi_hand_landmarks:\n",
    "            \n",
    "            # --- Hand Cropping Logic (Simplified to use the first detected hand) ---\n",
    "            h, w, c = frame.shape\n",
    "            x_min, y_min = w, h\n",
    "            x_max, y_max = 0, 0\n",
    "            \n",
    "            for landmark in result.multi_hand_landmarks[0].landmark:\n",
    "                x, y = int(landmark.x * w), int(landmark.y * h)\n",
    "                x_min, y_min = min(x_min, x), min(y_min, y)\n",
    "                x_max, y_max = max(x_max, x), max(y_max, y)\n",
    "\n",
    "            margin = 30\n",
    "            x_min = max(0, x_min - margin)\n",
    "            y_min = max(0, y_min - margin)\n",
    "            x_max = min(w, x_max + margin)\n",
    "            y_max = min(h, y_max + margin)\n",
    "\n",
    "            hand_image = frame[y_min:y_max, x_min:x_max]\n",
    "            \n",
    "            if hand_image.size > 0:\n",
    "                preprocessed_image, resized_image = preprocess_image(hand_image)\n",
    "\n",
    "                prediction = model.predict(preprocessed_image, verbose=0)\n",
    "                asl_letter = predict_asl_letter(prediction)\n",
    "                confidence = np.max(prediction) * 100\n",
    "                \n",
    "                # Store data points for metric calculation\n",
    "                y_true.append(true_label)\n",
    "                y_pred.append(asl_letter)\n",
    "\n",
    "                # Draw UI feedback\n",
    "                cv2.rectangle(frame, (x_min, y_min), (x_max, y_max), (0, 255, 0), 2)\n",
    "                cv2.putText(frame, f'PRED: {asl_letter} ({confidence:.1f}%)', \n",
    "                            (x_min, y_min - 10), cv2.FONT_HERSHEY_SIMPLEX, 1, (0, 255, 0), 2, cv2.LINE_AA)\n",
    "                cv2.imshow('Preprocessed Image', resized_image)\n",
    "\n",
    "        cv2.putText(frame, f\"HOLD: {true_label} | TIME: {SESSION_DURATION - (time.time() - start_time):.1f}s\", \n",
    "                    (10, 30), cv2.FONT_HERSHEY_SIMPLEX, 1, (255, 255, 255), 2)\n",
    "        cv2.imshow('ASL Recognition', frame)\n",
    "        \n",
    "        if cv2.waitKey(1) & 0xFF == ord('q'):\n",
    "            break\n",
    "\n",
    "    return y_true, y_pred"
   ]
  },
  {
   "cell_type": "code",
   "execution_count": 8,
   "id": "de1a17cb",
   "metadata": {},
   "outputs": [],
   "source": [
    "# --- E. MAIN EXECUTION ---\n",
    "cap = cv2.VideoCapture(0)\n",
    "metrics_per_letter = {}\n",
    "y_true_total = [] \n",
    "y_pred_total = [] "
   ]
  },
  {
   "cell_type": "code",
   "execution_count": 9,
   "id": "e260b8db",
   "metadata": {},
   "outputs": [
    {
     "name": "stdout",
     "output_type": "stream",
     "text": [
      "=============================================\n",
      "ASL REAL-TIME EVALUATION MODE\n",
      "=============================================\n"
     ]
    }
   ],
   "source": [
    "print(\"=============================================\")\n",
    "print(\"ASL REAL-TIME EVALUATION MODE\")\n",
    "print(\"=============================================\")"
   ]
  },
  {
   "cell_type": "code",
   "execution_count": 10,
   "id": "897ff126",
   "metadata": {},
   "outputs": [
    {
     "name": "stdout",
     "output_type": "stream",
     "text": [
      "\n",
      "👉 Ready for letter: A. Press 'C' to begin capture.\n",
      "   Capturing A for 5.0 seconds.\n"
     ]
    },
    {
     "name": "stderr",
     "output_type": "stream",
     "text": [
      "c:\\Users\\HP\\asl_detection1\\.venv\\Lib\\site-packages\\google\\protobuf\\symbol_database.py:55: UserWarning: SymbolDatabase.GetPrototype() is deprecated. Please use message_factory.GetMessageClass() instead. SymbolDatabase.GetPrototype() will be removed soon.\n",
      "  warnings.warn('SymbolDatabase.GetPrototype() is deprecated. Please '\n"
     ]
    },
    {
     "name": "stdout",
     "output_type": "stream",
     "text": [
      "   Result: Accuracy: 0.97, Most Predicted: A (31 frames)\n",
      "\n",
      "👉 Ready for letter: B. Press 'C' to begin capture.\n",
      "   Capturing B for 5.0 seconds.\n"
     ]
    },
    {
     "name": "stderr",
     "output_type": "stream",
     "text": [
      "c:\\Users\\HP\\asl_detection1\\.venv\\Lib\\site-packages\\google\\protobuf\\symbol_database.py:55: UserWarning: SymbolDatabase.GetPrototype() is deprecated. Please use message_factory.GetMessageClass() instead. SymbolDatabase.GetPrototype() will be removed soon.\n",
      "  warnings.warn('SymbolDatabase.GetPrototype() is deprecated. Please '\n"
     ]
    },
    {
     "name": "stdout",
     "output_type": "stream",
     "text": [
      "   Result: Accuracy: 1.00, Most Predicted: B (52 frames)\n",
      "\n",
      "👉 Ready for letter: C. Press 'C' to begin capture.\n",
      "   Capturing C for 5.0 seconds.\n"
     ]
    },
    {
     "name": "stderr",
     "output_type": "stream",
     "text": [
      "c:\\Users\\HP\\asl_detection1\\.venv\\Lib\\site-packages\\google\\protobuf\\symbol_database.py:55: UserWarning: SymbolDatabase.GetPrototype() is deprecated. Please use message_factory.GetMessageClass() instead. SymbolDatabase.GetPrototype() will be removed soon.\n",
      "  warnings.warn('SymbolDatabase.GetPrototype() is deprecated. Please '\n"
     ]
    },
    {
     "name": "stdout",
     "output_type": "stream",
     "text": [
      "   Result: Accuracy: 1.00, Most Predicted: C (52 frames)\n",
      "\n",
      "👉 Ready for letter: D. Press 'C' to begin capture.\n",
      "   Capturing D for 5.0 seconds.\n"
     ]
    },
    {
     "name": "stderr",
     "output_type": "stream",
     "text": [
      "c:\\Users\\HP\\asl_detection1\\.venv\\Lib\\site-packages\\google\\protobuf\\symbol_database.py:55: UserWarning: SymbolDatabase.GetPrototype() is deprecated. Please use message_factory.GetMessageClass() instead. SymbolDatabase.GetPrototype() will be removed soon.\n",
      "  warnings.warn('SymbolDatabase.GetPrototype() is deprecated. Please '\n"
     ]
    },
    {
     "name": "stdout",
     "output_type": "stream",
     "text": [
      "   Result: Accuracy: 1.00, Most Predicted: D (52 frames)\n",
      "\n",
      "👉 Ready for letter: E. Press 'C' to begin capture.\n",
      "   Capturing E for 5.0 seconds.\n"
     ]
    },
    {
     "name": "stderr",
     "output_type": "stream",
     "text": [
      "c:\\Users\\HP\\asl_detection1\\.venv\\Lib\\site-packages\\google\\protobuf\\symbol_database.py:55: UserWarning: SymbolDatabase.GetPrototype() is deprecated. Please use message_factory.GetMessageClass() instead. SymbolDatabase.GetPrototype() will be removed soon.\n",
      "  warnings.warn('SymbolDatabase.GetPrototype() is deprecated. Please '\n"
     ]
    },
    {
     "name": "stdout",
     "output_type": "stream",
     "text": [
      "   Result: Accuracy: 1.00, Most Predicted: E (51 frames)\n",
      "\n",
      "👉 Ready for letter: F. Press 'C' to begin capture.\n",
      "   Capturing F for 5.0 seconds.\n"
     ]
    },
    {
     "name": "stderr",
     "output_type": "stream",
     "text": [
      "c:\\Users\\HP\\asl_detection1\\.venv\\Lib\\site-packages\\google\\protobuf\\symbol_database.py:55: UserWarning: SymbolDatabase.GetPrototype() is deprecated. Please use message_factory.GetMessageClass() instead. SymbolDatabase.GetPrototype() will be removed soon.\n",
      "  warnings.warn('SymbolDatabase.GetPrototype() is deprecated. Please '\n"
     ]
    },
    {
     "name": "stdout",
     "output_type": "stream",
     "text": [
      "   Result: Accuracy: 1.00, Most Predicted: F (51 frames)\n",
      "\n",
      "👉 Ready for letter: G. Press 'C' to begin capture.\n",
      "   Capturing G for 5.0 seconds.\n"
     ]
    },
    {
     "name": "stderr",
     "output_type": "stream",
     "text": [
      "c:\\Users\\HP\\asl_detection1\\.venv\\Lib\\site-packages\\google\\protobuf\\symbol_database.py:55: UserWarning: SymbolDatabase.GetPrototype() is deprecated. Please use message_factory.GetMessageClass() instead. SymbolDatabase.GetPrototype() will be removed soon.\n",
      "  warnings.warn('SymbolDatabase.GetPrototype() is deprecated. Please '\n"
     ]
    },
    {
     "name": "stdout",
     "output_type": "stream",
     "text": [
      "   Result: Accuracy: 1.00, Most Predicted: G (52 frames)\n",
      "\n",
      "👉 Ready for letter: H. Press 'C' to begin capture.\n",
      "   Capturing H for 5.0 seconds.\n"
     ]
    },
    {
     "name": "stderr",
     "output_type": "stream",
     "text": [
      "c:\\Users\\HP\\asl_detection1\\.venv\\Lib\\site-packages\\google\\protobuf\\symbol_database.py:55: UserWarning: SymbolDatabase.GetPrototype() is deprecated. Please use message_factory.GetMessageClass() instead. SymbolDatabase.GetPrototype() will be removed soon.\n",
      "  warnings.warn('SymbolDatabase.GetPrototype() is deprecated. Please '\n"
     ]
    },
    {
     "name": "stdout",
     "output_type": "stream",
     "text": [
      "   Result: Accuracy: 1.00, Most Predicted: H (51 frames)\n",
      "\n",
      "👉 Ready for letter: I. Press 'C' to begin capture.\n",
      "   Capturing I for 5.0 seconds.\n"
     ]
    },
    {
     "name": "stderr",
     "output_type": "stream",
     "text": [
      "c:\\Users\\HP\\asl_detection1\\.venv\\Lib\\site-packages\\google\\protobuf\\symbol_database.py:55: UserWarning: SymbolDatabase.GetPrototype() is deprecated. Please use message_factory.GetMessageClass() instead. SymbolDatabase.GetPrototype() will be removed soon.\n",
      "  warnings.warn('SymbolDatabase.GetPrototype() is deprecated. Please '\n"
     ]
    },
    {
     "name": "stdout",
     "output_type": "stream",
     "text": [
      "   Result: Accuracy: 0.98, Most Predicted: I (51 frames)\n",
      "\n",
      "👉 Ready for letter: K. Press 'C' to begin capture.\n",
      "   Capturing K for 5.0 seconds.\n"
     ]
    },
    {
     "name": "stderr",
     "output_type": "stream",
     "text": [
      "c:\\Users\\HP\\asl_detection1\\.venv\\Lib\\site-packages\\google\\protobuf\\symbol_database.py:55: UserWarning: SymbolDatabase.GetPrototype() is deprecated. Please use message_factory.GetMessageClass() instead. SymbolDatabase.GetPrototype() will be removed soon.\n",
      "  warnings.warn('SymbolDatabase.GetPrototype() is deprecated. Please '\n"
     ]
    },
    {
     "name": "stdout",
     "output_type": "stream",
     "text": [
      "   Result: Accuracy: 1.00, Most Predicted: K (52 frames)\n",
      "\n",
      "👉 Ready for letter: L. Press 'C' to begin capture.\n",
      "   Capturing L for 5.0 seconds.\n"
     ]
    },
    {
     "name": "stderr",
     "output_type": "stream",
     "text": [
      "c:\\Users\\HP\\asl_detection1\\.venv\\Lib\\site-packages\\google\\protobuf\\symbol_database.py:55: UserWarning: SymbolDatabase.GetPrototype() is deprecated. Please use message_factory.GetMessageClass() instead. SymbolDatabase.GetPrototype() will be removed soon.\n",
      "  warnings.warn('SymbolDatabase.GetPrototype() is deprecated. Please '\n"
     ]
    },
    {
     "name": "stdout",
     "output_type": "stream",
     "text": [
      "   Result: Accuracy: 1.00, Most Predicted: L (52 frames)\n",
      "\n",
      "👉 Ready for letter: M. Press 'C' to begin capture.\n",
      "   Capturing M for 5.0 seconds.\n"
     ]
    },
    {
     "name": "stderr",
     "output_type": "stream",
     "text": [
      "c:\\Users\\HP\\asl_detection1\\.venv\\Lib\\site-packages\\google\\protobuf\\symbol_database.py:55: UserWarning: SymbolDatabase.GetPrototype() is deprecated. Please use message_factory.GetMessageClass() instead. SymbolDatabase.GetPrototype() will be removed soon.\n",
      "  warnings.warn('SymbolDatabase.GetPrototype() is deprecated. Please '\n"
     ]
    },
    {
     "name": "stdout",
     "output_type": "stream",
     "text": [
      "   Result: Accuracy: 1.00, Most Predicted: M (50 frames)\n",
      "\n",
      "👉 Ready for letter: N. Press 'C' to begin capture.\n",
      "   Capturing N for 5.0 seconds.\n"
     ]
    },
    {
     "name": "stderr",
     "output_type": "stream",
     "text": [
      "c:\\Users\\HP\\asl_detection1\\.venv\\Lib\\site-packages\\google\\protobuf\\symbol_database.py:55: UserWarning: SymbolDatabase.GetPrototype() is deprecated. Please use message_factory.GetMessageClass() instead. SymbolDatabase.GetPrototype() will be removed soon.\n",
      "  warnings.warn('SymbolDatabase.GetPrototype() is deprecated. Please '\n"
     ]
    },
    {
     "name": "stdout",
     "output_type": "stream",
     "text": [
      "   Result: Accuracy: 0.29, Most Predicted: M (36 frames)\n",
      "\n",
      "👉 Ready for letter: O. Press 'C' to begin capture.\n",
      "   Capturing O for 5.0 seconds.\n"
     ]
    },
    {
     "name": "stderr",
     "output_type": "stream",
     "text": [
      "c:\\Users\\HP\\asl_detection1\\.venv\\Lib\\site-packages\\google\\protobuf\\symbol_database.py:55: UserWarning: SymbolDatabase.GetPrototype() is deprecated. Please use message_factory.GetMessageClass() instead. SymbolDatabase.GetPrototype() will be removed soon.\n",
      "  warnings.warn('SymbolDatabase.GetPrototype() is deprecated. Please '\n"
     ]
    },
    {
     "name": "stdout",
     "output_type": "stream",
     "text": [
      "   Result: Accuracy: 1.00, Most Predicted: O (51 frames)\n",
      "\n",
      "👉 Ready for letter: P. Press 'C' to begin capture.\n",
      "   Capturing P for 5.0 seconds.\n"
     ]
    },
    {
     "name": "stderr",
     "output_type": "stream",
     "text": [
      "c:\\Users\\HP\\asl_detection1\\.venv\\Lib\\site-packages\\google\\protobuf\\symbol_database.py:55: UserWarning: SymbolDatabase.GetPrototype() is deprecated. Please use message_factory.GetMessageClass() instead. SymbolDatabase.GetPrototype() will be removed soon.\n",
      "  warnings.warn('SymbolDatabase.GetPrototype() is deprecated. Please '\n"
     ]
    },
    {
     "name": "stdout",
     "output_type": "stream",
     "text": [
      "   Result: Accuracy: 0.14, Most Predicted: G (41 frames)\n",
      "\n",
      "👉 Ready for letter: Q. Press 'C' to begin capture.\n",
      "   Capturing Q for 5.0 seconds.\n"
     ]
    },
    {
     "name": "stderr",
     "output_type": "stream",
     "text": [
      "c:\\Users\\HP\\asl_detection1\\.venv\\Lib\\site-packages\\google\\protobuf\\symbol_database.py:55: UserWarning: SymbolDatabase.GetPrototype() is deprecated. Please use message_factory.GetMessageClass() instead. SymbolDatabase.GetPrototype() will be removed soon.\n",
      "  warnings.warn('SymbolDatabase.GetPrototype() is deprecated. Please '\n"
     ]
    },
    {
     "name": "stdout",
     "output_type": "stream",
     "text": [
      "   Result: Accuracy: 1.00, Most Predicted: Q (52 frames)\n",
      "\n",
      "👉 Ready for letter: R. Press 'C' to begin capture.\n",
      "   Capturing R for 5.0 seconds.\n"
     ]
    },
    {
     "name": "stderr",
     "output_type": "stream",
     "text": [
      "c:\\Users\\HP\\asl_detection1\\.venv\\Lib\\site-packages\\google\\protobuf\\symbol_database.py:55: UserWarning: SymbolDatabase.GetPrototype() is deprecated. Please use message_factory.GetMessageClass() instead. SymbolDatabase.GetPrototype() will be removed soon.\n",
      "  warnings.warn('SymbolDatabase.GetPrototype() is deprecated. Please '\n"
     ]
    },
    {
     "name": "stdout",
     "output_type": "stream",
     "text": [
      "   Result: Accuracy: 1.00, Most Predicted: R (51 frames)\n",
      "\n",
      "👉 Ready for letter: S. Press 'C' to begin capture.\n",
      "   Capturing S for 5.0 seconds.\n"
     ]
    },
    {
     "name": "stderr",
     "output_type": "stream",
     "text": [
      "c:\\Users\\HP\\asl_detection1\\.venv\\Lib\\site-packages\\google\\protobuf\\symbol_database.py:55: UserWarning: SymbolDatabase.GetPrototype() is deprecated. Please use message_factory.GetMessageClass() instead. SymbolDatabase.GetPrototype() will be removed soon.\n",
      "  warnings.warn('SymbolDatabase.GetPrototype() is deprecated. Please '\n"
     ]
    },
    {
     "name": "stdout",
     "output_type": "stream",
     "text": [
      "   Result: Accuracy: 0.25, Most Predicted: T (37 frames)\n",
      "\n",
      "👉 Ready for letter: T. Press 'C' to begin capture.\n",
      "   Capturing T for 5.0 seconds.\n"
     ]
    },
    {
     "name": "stderr",
     "output_type": "stream",
     "text": [
      "c:\\Users\\HP\\asl_detection1\\.venv\\Lib\\site-packages\\google\\protobuf\\symbol_database.py:55: UserWarning: SymbolDatabase.GetPrototype() is deprecated. Please use message_factory.GetMessageClass() instead. SymbolDatabase.GetPrototype() will be removed soon.\n",
      "  warnings.warn('SymbolDatabase.GetPrototype() is deprecated. Please '\n"
     ]
    },
    {
     "name": "stdout",
     "output_type": "stream",
     "text": [
      "   Result: Accuracy: 1.00, Most Predicted: T (52 frames)\n",
      "\n",
      "👉 Ready for letter: U. Press 'C' to begin capture.\n",
      "   Capturing U for 5.0 seconds.\n"
     ]
    },
    {
     "name": "stderr",
     "output_type": "stream",
     "text": [
      "c:\\Users\\HP\\asl_detection1\\.venv\\Lib\\site-packages\\google\\protobuf\\symbol_database.py:55: UserWarning: SymbolDatabase.GetPrototype() is deprecated. Please use message_factory.GetMessageClass() instead. SymbolDatabase.GetPrototype() will be removed soon.\n",
      "  warnings.warn('SymbolDatabase.GetPrototype() is deprecated. Please '\n"
     ]
    },
    {
     "name": "stdout",
     "output_type": "stream",
     "text": [
      "   Result: Accuracy: 0.90, Most Predicted: U (45 frames)\n",
      "\n",
      "👉 Ready for letter: V. Press 'C' to begin capture.\n",
      "   Capturing V for 5.0 seconds.\n"
     ]
    },
    {
     "name": "stderr",
     "output_type": "stream",
     "text": [
      "c:\\Users\\HP\\asl_detection1\\.venv\\Lib\\site-packages\\google\\protobuf\\symbol_database.py:55: UserWarning: SymbolDatabase.GetPrototype() is deprecated. Please use message_factory.GetMessageClass() instead. SymbolDatabase.GetPrototype() will be removed soon.\n",
      "  warnings.warn('SymbolDatabase.GetPrototype() is deprecated. Please '\n"
     ]
    },
    {
     "name": "stdout",
     "output_type": "stream",
     "text": [
      "   Result: Accuracy: 0.02, Most Predicted: K (51 frames)\n",
      "\n",
      "👉 Ready for letter: W. Press 'C' to begin capture.\n",
      "   Capturing W for 5.0 seconds.\n"
     ]
    },
    {
     "name": "stderr",
     "output_type": "stream",
     "text": [
      "c:\\Users\\HP\\asl_detection1\\.venv\\Lib\\site-packages\\google\\protobuf\\symbol_database.py:55: UserWarning: SymbolDatabase.GetPrototype() is deprecated. Please use message_factory.GetMessageClass() instead. SymbolDatabase.GetPrototype() will be removed soon.\n",
      "  warnings.warn('SymbolDatabase.GetPrototype() is deprecated. Please '\n"
     ]
    },
    {
     "name": "stdout",
     "output_type": "stream",
     "text": [
      "   Result: Accuracy: 1.00, Most Predicted: W (52 frames)\n",
      "\n",
      "👉 Ready for letter: X. Press 'C' to begin capture.\n",
      "   Capturing X for 5.0 seconds.\n"
     ]
    },
    {
     "name": "stderr",
     "output_type": "stream",
     "text": [
      "c:\\Users\\HP\\asl_detection1\\.venv\\Lib\\site-packages\\google\\protobuf\\symbol_database.py:55: UserWarning: SymbolDatabase.GetPrototype() is deprecated. Please use message_factory.GetMessageClass() instead. SymbolDatabase.GetPrototype() will be removed soon.\n",
      "  warnings.warn('SymbolDatabase.GetPrototype() is deprecated. Please '\n"
     ]
    },
    {
     "name": "stdout",
     "output_type": "stream",
     "text": [
      "   Result: Accuracy: 1.00, Most Predicted: X (51 frames)\n",
      "\n",
      "👉 Ready for letter: Y. Press 'C' to begin capture.\n",
      "   Capturing Y for 5.0 seconds.\n"
     ]
    },
    {
     "name": "stderr",
     "output_type": "stream",
     "text": [
      "c:\\Users\\HP\\asl_detection1\\.venv\\Lib\\site-packages\\google\\protobuf\\symbol_database.py:55: UserWarning: SymbolDatabase.GetPrototype() is deprecated. Please use message_factory.GetMessageClass() instead. SymbolDatabase.GetPrototype() will be removed soon.\n",
      "  warnings.warn('SymbolDatabase.GetPrototype() is deprecated. Please '\n"
     ]
    },
    {
     "name": "stdout",
     "output_type": "stream",
     "text": [
      "   Result: Accuracy: 1.00, Most Predicted: Y (51 frames)\n"
     ]
    }
   ],
   "source": [
    "for true_label in ASL_LETTERS:\n",
    "    print(f\"\\n👉 Ready for letter: {true_label}. Press 'C' to begin capture.\")\n",
    "    \n",
    "    # Loop to wait for user input (C or Q)\n",
    "    while True:\n",
    "        ret, frame = cap.read()\n",
    "        if not ret: sys.exit()\n",
    "        \n",
    "        frame = cv2.flip(frame, 1)\n",
    "        cv2.putText(frame, f\"Ready: {true_label}. Press 'C' to start 5s test.\", (10, 30), cv2.FONT_HERSHEY_SIMPLEX, 1, (255, 255, 255), 2)\n",
    "        cv2.imshow('ASL Recognition', frame)\n",
    "\n",
    "        key = cv2.waitKey(1) & 0xFF\n",
    "        if key == ord('c'):\n",
    "            print(f\"   Capturing {true_label} for {SESSION_DURATION} seconds.\")\n",
    "            break\n",
    "        elif key == ord('q'):\n",
    "            cap.release()\n",
    "            cv2.destroyAllWindows()\n",
    "            sys.exit()\n",
    "\n",
    "    # Run the prediction session\n",
    "    y_true, y_pred = run_predictions(true_label)\n",
    "\n",
    "    # Calculate metrics after prediction session\n",
    "    if y_pred:\n",
    "        accuracy = accuracy_score(y_true, y_pred)\n",
    "        most_common_label, count = Counter(y_pred).most_common(1)[0]\n",
    "        \n",
    "        metrics_per_letter[true_label] = {\n",
    "            'Accuracy': accuracy,\n",
    "            'Most Predicted Label': most_common_label,\n",
    "            'Count': count,\n",
    "            'Total Frames': len(y_pred)\n",
    "        }\n",
    "        \n",
    "        y_true_total.extend(y_true)\n",
    "        y_pred_total.extend(y_pred)\n",
    "        \n",
    "        print(f'   Result: Accuracy: {accuracy:.2f}, Most Predicted: {most_common_label} ({count} frames)')\n",
    "        cv2.destroyAllWindows()\n",
    "        \n",
    "    else:\n",
    "        print(\"   No hand detected during the session.\")"
   ]
  },
  {
   "cell_type": "code",
   "execution_count": 11,
   "id": "0cee721b",
   "metadata": {},
   "outputs": [
    {
     "name": "stdout",
     "output_type": "stream",
     "text": [
      "\n",
      "\n",
      "=============================================\n",
      "     FINAL OVERALL REAL-TIME ACCURACY: 0.86\n",
      "=============================================\n",
      "\n",
      "Detailed Per-Letter Performance:\n",
      "Sign A: ACC=0.97 | PRED=A (31/32 frames)\n",
      "Sign B: ACC=1.00 | PRED=B (52/52 frames)\n",
      "Sign C: ACC=1.00 | PRED=C (52/52 frames)\n",
      "Sign D: ACC=1.00 | PRED=D (52/52 frames)\n",
      "Sign E: ACC=1.00 | PRED=E (51/51 frames)\n",
      "Sign F: ACC=1.00 | PRED=F (51/51 frames)\n",
      "Sign G: ACC=1.00 | PRED=G (52/52 frames)\n",
      "Sign H: ACC=1.00 | PRED=H (51/51 frames)\n",
      "Sign I: ACC=0.98 | PRED=I (51/52 frames)\n",
      "Sign K: ACC=1.00 | PRED=K (52/52 frames)\n",
      "Sign L: ACC=1.00 | PRED=L (52/52 frames)\n",
      "Sign M: ACC=1.00 | PRED=M (50/50 frames)\n",
      "Sign N: ACC=0.29 | PRED=M (36/51 frames)\n",
      "Sign O: ACC=1.00 | PRED=O (51/51 frames)\n",
      "Sign P: ACC=0.14 | PRED=G (41/51 frames)\n",
      "Sign Q: ACC=1.00 | PRED=Q (52/52 frames)\n",
      "Sign R: ACC=1.00 | PRED=R (51/51 frames)\n",
      "Sign S: ACC=0.25 | PRED=T (37/51 frames)\n",
      "Sign T: ACC=1.00 | PRED=T (52/52 frames)\n",
      "Sign U: ACC=0.90 | PRED=U (45/50 frames)\n",
      "Sign V: ACC=0.02 | PRED=K (51/52 frames)\n",
      "Sign W: ACC=1.00 | PRED=W (52/52 frames)\n",
      "Sign X: ACC=1.00 | PRED=X (51/51 frames)\n",
      "Sign Y: ACC=1.00 | PRED=Y (51/51 frames)\n",
      "\n",
      "--- Generating Confusion Matrix Plot ---\n"
     ]
    },
    {
     "data": {
      "image/png": "[encoded data removed]",
      "text/plain": [
       "<Figure size 1800x1500 with 2 Axes>"
      ]
     },
     "metadata": {},
     "output_type": "display_data"
    }
   ],
   "source": [
    "# --- F. FINAL REPORTING ---\n",
    "if y_true_total:\n",
    "    final_accuracy = accuracy_score(y_true_total, y_pred_total)\n",
    "    \n",
    "    print(\"\\n\\n=============================================\")\n",
    "    print(f\"     FINAL OVERALL REAL-TIME ACCURACY: {final_accuracy:.2f}\")\n",
    "    print(\"=============================================\")\n",
    "\n",
    "    print(\"\\nDetailed Per-Letter Performance:\")\n",
    "    for letter, metrics in metrics_per_letter.items():\n",
    "        print(f'Sign {letter}: ACC={metrics[\"Accuracy\"]:.2f} | PRED={metrics[\"Most Predicted Label\"]} ({metrics[\"Count\"]}/{metrics[\"Total Frames\"]} frames)')\n",
    "    \n",
    "    \n",
    "    # --- G. CONFUSION MATRIX GENERATION AND DISPLAY ---\n",
    "    print(\"\\n--- Generating Confusion Matrix Plot ---\")\n",
    "    \n",
    "    labels_list = list(ASL_LETTERS) \n",
    "    \n",
    "    # Calculate the Confusion Matrix\n",
    "    cm = confusion_matrix(y_true_total, y_pred_total, labels=labels_list)\n",
    "\n",
    "    # Plot the Matrix\n",
    "    plt.figure(figsize=(18, 15)) \n",
    "    sns.heatmap(\n",
    "        cm, \n",
    "        annot=True,        \n",
    "        fmt='d',           \n",
    "        cmap='Blues',      \n",
    "        xticklabels=labels_list, \n",
    "        yticklabels=labels_list \n",
    "    )\n",
    "    plt.title('Real-Time ASL Detection Confusion Matrix')\n",
    "    plt.ylabel('True Label (Actual Sign Held)')\n",
    "    plt.xlabel('Predicted Label (Model Output)')\n",
    "    plt.show()"
   ]
  },
  {
   "cell_type": "code",
   "execution_count": 13,
   "id": "a077165a",
   "metadata": {},
   "outputs": [],
   "source": [
    "if not y_true_total:\n",
    "    print(\"\\nNo full evaluation cycle was completed.\")"
   ]
  },
  {
   "cell_type": "code",
   "execution_count": 14,
   "id": "945f18bf",
   "metadata": {},
   "outputs": [],
   "source": [
    "cap.release()\n",
    "cv2.destroyAllWindows()"
   ]
  }
 ],
 "metadata": {
  "jupytext": {
   "cell_metadata_filter": "-all",
   "main_language": "python",
   "notebook_metadata_filter": "-all"
  },
  "kernelspec": {
   "display_name": ".venv",
   "language": "python",
   "name": "python3"
  },
  "language_info": {
   "codemirror_mode": {
    "name": "ipython",
    "version": 3
   },
   "file_extension": ".py",
   "mimetype": "text/x-python",
   "name": "python",
   "nbconvert_exporter": "python",
   "pygments_lexer": "ipython3",
   "version": "3.11.9"
  }
 },
 "nbformat": 4,
 "nbformat_minor": 5
}
